{
  "nbformat": 4,
  "nbformat_minor": 0,
  "metadata": {
    "colab": {
      "provenance": [],
      "authorship_tag": "ABX9TyO1xi9JwNlR0pfD44G1dncF",
      "include_colab_link": true
    },
    "kernelspec": {
      "name": "python3",
      "display_name": "Python 3"
    },
    "language_info": {
      "name": "python"
    }
  },
  "cells": [
    {
      "cell_type": "markdown",
      "metadata": {
        "id": "view-in-github",
        "colab_type": "text"
      },
      "source": [
        "<a href=\"https://colab.research.google.com/github/alexk2206/tds_capstone/blob/Alex-DEV/Capstone_Project_SnapADDY.ipynb\" target=\"_parent\"><img src=\"https://colab.research.google.com/assets/colab-badge.svg\" alt=\"Open In Colab\"/></a>"
      ]
    },
    {
      "cell_type": "code",
      "execution_count": null,
      "metadata": {
        "id": "NXSmgxImkDRG"
      },
      "outputs": [],
      "source": [
        "import pandas as pd\n",
        "import json"
      ]
    },
    {
      "cell_type": "code",
      "source": [
        "file_path = \"/questionnaire1.json\"\n",
        "with open(file_path, \"r\") as file:\n",
        "    data = json.load(file)\n",
        "\n",
        "# DataFrame erstellen\n",
        "Q1 = pd.DataFrame([\n",
        "    {\n",
        "        \"type\": item[\"type\"],\n",
        "        \"question\": item[\"question\"],\n",
        "        \"options\": [opt[\"option\"] for opt in item[\"options\"]]\n",
        "    }\n",
        "    for item in data\n",
        "])\n",
        "\n",
        "# Optionen als Strings anzeigen\n",
        "Q1[\"options\"] = Q1[\"options\"].apply(lambda x: \", \".join(x))\n",
        "\n",
        "# DataFrame anzeigen\n",
        "Q1"
      ],
      "metadata": {
        "id": "gqVUVpdYkqiN"
      },
      "execution_count": null,
      "outputs": []
    }
  ]
}