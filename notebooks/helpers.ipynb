{
  "cells": [
    {
      "cell_type": "markdown",
      "source": [
        "We clone the git hub repository to import functions of th helpers.py file"
      ],
      "metadata": {
        "id": "g64idqUSjCiU"
      }
    },
    {
      "cell_type": "code",
      "source": [
        "!git clone https://github.com/alexk2206/tds_capstone.git"
      ],
      "metadata": {
        "id": "6NznvcOqhb0C",
        "outputId": "3ddcbfca-6381-40df-ed47-466e5df4e4ab",
        "colab": {
          "base_uri": "https://localhost:8080/"
        }
      },
      "execution_count": 9,
      "outputs": [
        {
          "output_type": "stream",
          "name": "stdout",
          "text": [
            "fatal: destination path 'tds_capstone' already exists and is not an empty directory.\n"
          ]
        }
      ]
    },
    {
      "cell_type": "code",
      "source": [
        "%cd /content/tds_capstone\n",
        "!git pull"
      ],
      "metadata": {
        "id": "WVa1LK3JjkFg",
        "outputId": "8b3c6a85-1e17-4ca8-9b93-935a8e1b1ff0",
        "colab": {
          "base_uri": "https://localhost:8080/"
        }
      },
      "execution_count": 5,
      "outputs": [
        {
          "output_type": "stream",
          "name": "stdout",
          "text": [
            "/content/tds_capstone\n",
            "remote: Enumerating objects: 16, done.\u001b[K\n",
            "remote: Counting objects: 100% (14/14), done.\u001b[K\n",
            "remote: Compressing objects: 100% (9/9), done.\u001b[K\n",
            "remote: Total 9 (delta 4), reused 0 (delta 0), pack-reused 0 (from 0)\u001b[K\n",
            "Unpacking objects: 100% (9/9), 23.66 KiB | 336.00 KiB/s, done.\n",
            "From https://github.com/alexk2206/tds_capstone\n",
            "   a70745b..07b4782  main       -> origin/main\n",
            "   2901c36..44d4611  Alex-DEV   -> origin/Alex-DEV\n",
            "Updating a70745b..07b4782\n",
            "Fast-forward\n",
            " answer_combinations.ipynb         | 184 \u001b[32m+++++++++++++++++++++++++++++++++++++++++\u001b[m\u001b[31m-----------------\u001b[m\n",
            " datasets/answer_combinations.json |   2 \u001b[32m+\u001b[m\u001b[31m-\u001b[m\n",
            " helpers.py                        |   3 \u001b[32m+\u001b[m\n",
            " 3 files changed, 134 insertions(+), 55 deletions(-)\n"
          ]
        }
      ]
    },
    {
      "cell_type": "code",
      "source": [
        "import importlib\n",
        "import helpers  # Import the module\n",
        "importlib.reload(helpers)  # Reload the module to get the latest version\n"
      ],
      "metadata": {
        "id": "uc_IVmlvkrAQ",
        "outputId": "9fa1b2ac-52b2-421d-eaf5-4171f7df6c35",
        "colab": {
          "base_uri": "https://localhost:8080/"
        }
      },
      "execution_count": 7,
      "outputs": [
        {
          "output_type": "execute_result",
          "data": {
            "text/plain": [
              "<module 'helpers' from '/content/tds_capstone/helpers.py'>"
            ]
          },
          "metadata": {},
          "execution_count": 7
        }
      ]
    },
    {
      "cell_type": "code",
      "source": [
        "import sys\n",
        "sys.path.insert(0,'/content/tds_capstone')\n",
        "\n",
        "from helpers import helper_function2\n",
        "\n",
        "print(helper_function2())"
      ],
      "metadata": {
        "id": "pG3zPJAxhciD",
        "outputId": "ff33b721-1001-4331-b8e4-b47144944ad0",
        "colab": {
          "base_uri": "https://localhost:8080/"
        }
      },
      "execution_count": 8,
      "outputs": [
        {
          "output_type": "stream",
          "name": "stdout",
          "text": [
            "False\n"
          ]
        }
      ]
    },
    {
      "cell_type": "code",
      "source": [],
      "metadata": {
        "id": "XWs8EWWAhoKA"
      },
      "execution_count": null,
      "outputs": []
    }
  ],
  "metadata": {
    "language_info": {
      "name": "python"
    },
    "colab": {
      "provenance": []
    },
    "kernelspec": {
      "name": "python3",
      "display_name": "Python 3"
    }
  },
  "nbformat": 4,
  "nbformat_minor": 0
}